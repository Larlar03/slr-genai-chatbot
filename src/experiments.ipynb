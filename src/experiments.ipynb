{
 "cells": [
  {
   "cell_type": "code",
   "execution_count": null,
   "metadata": {},
   "outputs": [],
   "source": [
    "import os\n",
    "from dotenv import load_dotenv\n",
    "\n",
    "# Get the current working directory\n",
    "current_dir = os.getcwd()\n",
    "# Get the parent directory (one level above the current working directory)\n",
    "parent_dir = os.path.dirname(current_dir)\n",
    "# Construct the path to the .env file in the parent directory\n",
    "dotenv_path = os.path.join(parent_dir, \".env\")\n",
    "# Load environment variables from the .env file\n",
    "_ = load_dotenv(dotenv_path)\n",
    "\n",
    "OPENAI_API_KEY = os.environ.get(\"OPENAI_API_KEY\")\n"
   ]
  },
  {
   "cell_type": "code",
   "execution_count": null,
   "metadata": {},
   "outputs": [],
   "source": [
    "# load document\n",
    "from langchain.document_loaders.csv_loader import CSVLoader\n",
    "from langchain.document_loaders import WebBaseLoader\n",
    "\n",
    "# loader = CSVLoader(file_path=\"../documents/events.csv\")\n",
    "loader =  WebBaseLoader([\"https://www.artrabbit.com/all-listings/united-kingdom/birmingham\"])\n",
    "\n",
    "data = loader.load()\n",
    "len(data)\n",
    "data[0]\n",
    "\n"
   ]
  },
  {
   "cell_type": "code",
   "execution_count": null,
   "metadata": {},
   "outputs": [],
   "source": [
    "# split documents (not needed for single csv file as it is already split into lines)\n",
    "# from langchain.text_splitter import RecursiveCharacterTextSplitter\n",
    "\n",
    "# text_splitter = RecursiveCharacterTextSplitter(\n",
    "# # Chunk size is new linewith separator set\n",
    "#     # chunk_size =\n",
    "#     chunk_overlap  = 2,\n",
    "#     separators=\"\\n\"\n",
    "# )\n",
    "# docs = text_splitter.split_documents(data)\n",
    "# print(len(data))\n",
    "# print(len(docs))\n"
   ]
  },
  {
   "cell_type": "code",
   "execution_count": null,
   "metadata": {},
   "outputs": [],
   "source": [
    "# embedding\n",
    "import os\n",
    "from dotenv import load_dotenv\n",
    "\n",
    "current_dir = os.getcwd()\n",
    "parent_dir = os.path.dirname(current_dir)\n",
    "dotenv_path = os.path.join(parent_dir, \".env\")\n",
    "_ = load_dotenv(dotenv_path)\n",
    "\n",
    "OPENAI_API_KEY = os.environ.get(\"OPENAI_API_KEY\")\n",
    "\n",
    "from langchain.embeddings.openai import OpenAIEmbeddings\n",
    "embeddings = OpenAIEmbeddings(openai_api_key=OPENAI_API_KEY)"
   ]
  },
  {
   "cell_type": "code",
   "execution_count": null,
   "metadata": {},
   "outputs": [],
   "source": [
    "\n",
    "# vector store\n",
    "from langchain.vectorstores import FAISS\n",
    "\n",
    "output_directory = \"../documents/mock_db\"\n",
    "!rm -rf ./documents/faiss_db  # remove old database files if any\n",
    "\n",
    "vectordb = FAISS.from_documents(\n",
    "data,\n",
    "embeddings,\n",
    ")\n",
    "\n",
    "# save vector store\n",
    "vectordb.save_local(output_directory)\n"
   ]
  },
  {
   "cell_type": "code",
   "execution_count": null,
   "metadata": {},
   "outputs": [],
   "source": [
    "# load vector store\n",
    "events_db = FAISS.load_local(output_directory, embeddings)"
   ]
  },
  {
   "cell_type": "code",
   "execution_count": null,
   "metadata": {},
   "outputs": [],
   "source": [
    "# similarity search\n",
    "query = \"I want to go to an art event, what's happening this month?\"\n",
    "docs = events_db.similarity_search(query, k=5)\n",
    "print(len(docs))\n",
    "for doc in docs:\n",
    "    print(doc.page_content)"
   ]
  },
  {
   "cell_type": "code",
   "execution_count": null,
   "metadata": {},
   "outputs": [],
   "source": [
    "# maximal marginal relevance search - to achieve both relevance (semantic similarity) and diversity to the query\n",
    "docs = events_db.max_marginal_relevance_search(query, k=5, fetch_k=20)\n",
    "for doc in docs:\n",
    "    print(doc.page_content[:50])\n"
   ]
  },
  {
   "cell_type": "code",
   "execution_count": null,
   "metadata": {},
   "outputs": [],
   "source": [
    "# vector store-backed retriever\n",
    "retriever = events_db.as_retriever(search_type=\"mmr\", search_kwargs={\"k\": 5})\n",
    "docs = retriever.get_relevant_documents(\"What photography events are happening in August?\")\n",
    "\n",
    "for doc in docs:\n",
    "    print(doc.page_content[:50])"
   ]
  },
  {
   "cell_type": "code",
   "execution_count": 8,
   "metadata": {},
   "outputs": [
    {
     "data": {
      "text/plain": [
       "'Here are some contemporary art exhibitions happening in Birmingham this month:\\n\\n1. Karl Blossfeldt: Art Forms in Nature at Midlands Arts Centre, running from July 8th to August 20th, 2023.\\n2. Made at MAC: Digital Zines at Midlands Arts Centre, running from July 7th, 2023 to January 7th, 2024.\\n3. Watershed at Midlands Arts Centre, running from June 29th to November 5th, 2023.\\n4. RBSA Summer Show at RBSA Gallery, running from June 15th to July 22nd, 2023.\\n5. Mary Williams ARBSA at RBSA Gallery, running from June 15th to July 22nd, 2023.\\n6. Charles Weston ARBSA at RBSA Gallery, running from June 15th to July 22nd, 2023.\\n7. Ed Isaacs RBSA at RBSA Gallery, running from June 15th to July 22nd, 2023.\\n8. Melati Suryodarmo: Passionate Pilgrim at Ikon, running from May 17th to September 3rd, 2023.\\n9. The 1970s - Artists Born In And Art Created In One Fantastic Decade at Colley Ison Gallery, running from May 3rd to August 12th, 2023.\\n\\nPlease note that these are just a few of the exhibitions happening in Birmingham this month. There may be more events and shows available.'"
      ]
     },
     "execution_count": 8,
     "metadata": {},
     "output_type": "execute_result"
    }
   ],
   "source": [
    "# RetrievalQA - question answering with prompt\n",
    "from langchain.chat_models import ChatOpenAI\n",
    "from langchain.chains import RetrievalQA\n",
    "from langchain.prompts import PromptTemplate\n",
    "\n",
    "llm = ChatOpenAI(model_name=\"gpt-3.5-turbo\", temperature=0.5)\n",
    "retriever = events_db.as_retriever(search_type=\"mmr\", search_kwargs={\"k\": 5})\n",
    "\n",
    "# Build prompt\n",
    "prompt_template = \"\"\"You are a help assistant at www.artrabbit.com. Use the following pieces of context to answer the question at the end. If you don't know the answer, just say that you don't know, don't try to make up an answer. \n",
    "{context}\n",
    "Question: {question}\n",
    "Answer:\"\"\"\n",
    "PROMPT = PromptTemplate.from_template(prompt_template)\n",
    "\n",
    "qa_chain = RetrievalQA.from_chain_type(\n",
    "    llm,\n",
    "    retriever=retriever,\n",
    "    return_source_documents=True,\n",
    "    chain_type_kwargs={\"prompt\": PROMPT}\n",
    ")\n",
    "\n",
    "question = \"I want to go to an art event, what's happening this month?\"\n",
    "result = qa_chain({\"query\": question})\n",
    "result[\"result\"]\n",
    "# result[\"source_documents\"][0]\n",
    "\n"
   ]
  },
  {
   "cell_type": "code",
   "execution_count": null,
   "metadata": {},
   "outputs": [],
   "source": [
    "# RetrievalQA - question answering with refine chain type\n",
    "from langchain.chat_models import ChatOpenAI\n",
    "from langchain.chains import RetrievalQA\n",
    "from langchain.prompts import PromptTemplate\n",
    "\n",
    "llm = ChatOpenAI(model_name=\"gpt-3.5-turbo\", temperature=0.5)\n",
    "retriever = events_db.as_retriever(search_type=\"mmr\", search_kwargs={\"k\": 5})\n",
    "\n",
    "qa_chain = RetrievalQA.from_chain_type(\n",
    "    llm,\n",
    "    retriever=retriever,\n",
    "    return_source_documents=True,\n",
    "    chain_type=\"refine\"\n",
    ")\n",
    "\n",
    "question = \"What photography exhibitions are happening in August?\"\n",
    "result = qa_chain({\"query\": question})\n",
    "result[\"result\"]\n",
    "# result[\"source_documents\"][0]\n",
    "\n"
   ]
  },
  {
   "cell_type": "code",
   "execution_count": 9,
   "metadata": {},
   "outputs": [
    {
     "data": {
      "text/plain": [
       "\"Here are some contemporary art exhibitions happening in Birmingham this month:\\n\\n1. Karl Blossfeldt: Art Forms in Nature\\n   Dates: 8 Jul 2023 – 20 Aug 2023\\n   Location: Midlands Arts Centre\\n\\n2. Made at MAC: Digital Zines\\n   Dates: 7 Jul 2023 – 7 Jan 2024\\n   Location: Midlands Arts Centre\\n\\n3. Watershed\\n   Dates: 29 Jun 2023 – 5 Nov 2023\\n   Location: Midlands Arts Centre\\n\\n4. RBSA Summer Show\\n   Dates: 15 Jun 2023 – 22 Jul 2023\\n   Location: RBSA Gallery\\n\\n5. Mary Williams ARBSA\\n   Dates: 15 Jun 2023 – 22 Jul 2023\\n   Location: RBSA Gallery\\n\\n6. Charles Weston ARBSA\\n   Dates: 15 Jun 2023 – 22 Jul 2023\\n   Location: RBSA Gallery\\n\\n7. Ed Isaacs RBSA\\n   Dates: 15 Jun 2023 – 22 Jul 2023\\n   Location: RBSA Gallery\\n\\n8. Melati Suryodarmo: Passionate Pilgrim\\n   Dates: 17 May 2023 – 3 Sep 2023\\n   Location: Ikon\\n\\n9. The 1970s - Artists Born In And Art Created In One Fantastic Decade\\n   Dates: 3 May 2023 – 12 Aug 2023\\n   Location: Colley Ison Gallery\\n\\nPlease note that the dates and locations are subject to change, so it's always a good idea to double-check before attending.\""
      ]
     },
     "execution_count": 9,
     "metadata": {},
     "output_type": "execute_result"
    }
   ],
   "source": [
    "# Conversational retrieval chain\n",
    "from langchain.chat_models import ChatOpenAI\n",
    "from langchain.chains import ConversationalRetrievalChain\n",
    "from langchain.prompts import PromptTemplate\n",
    "from langchain.memory import ConversationBufferMemory\n",
    "\n",
    "retriever = events_db.as_retriever(search_kwargs={\"k\": 5})\n",
    "llm = ChatOpenAI(model_name=\"gpt-3.5-turbo\", temperature=0.5)\n",
    "\n",
    "# build prompt\n",
    "prompt_template = \"\"\"You are a help assistant at www.artrabbit.com having a conversation with a person who is looking for something creative adn cultural to do.\n",
    "Use the following pieces of context to provide a concise answer to the question.\n",
    "If you don't know the answer, just say that you don't know, don't try to make up an answer. \n",
    "Chat History: {chat_history}\n",
    "Question: {question}\n",
    "Answer:\"\"\"\n",
    "PROMPT = PromptTemplate.from_template(prompt_template)\n",
    "\n",
    "memory = ConversationBufferMemory(\n",
    "    memory_key=\"chat_history\",\n",
    "    return_messages=True\n",
    ")\n",
    "\n",
    "# run chain\n",
    "qa_chain = ConversationalRetrievalChain.from_llm(\n",
    "    llm,\n",
    "    retriever=retriever,\n",
    "    memory=memory\n",
    ")\n",
    "\n",
    "question = \"I want to go to an art event, what's happening this month?\"\n",
    "result = qa_chain({\"question\": question})\n",
    "result['answer']\n",
    "\n"
   ]
  }
 ],
 "metadata": {
  "kernelspec": {
   "display_name": "Python 3",
   "language": "python",
   "name": "python3"
  },
  "language_info": {
   "codemirror_mode": {
    "name": "ipython",
    "version": 3
   },
   "file_extension": ".py",
   "mimetype": "text/x-python",
   "name": "python",
   "nbconvert_exporter": "python",
   "pygments_lexer": "ipython3",
   "version": "3.11.0"
  },
  "orig_nbformat": 4
 },
 "nbformat": 4,
 "nbformat_minor": 2
}
