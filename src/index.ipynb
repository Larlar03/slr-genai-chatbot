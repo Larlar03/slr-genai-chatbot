{
 "cells": [
  {
   "cell_type": "code",
   "execution_count": null,
   "metadata": {},
   "outputs": [],
   "source": [
    "import os\n",
    "from dotenv import load_dotenv\n",
    "\n",
    "# Get the current working directory\n",
    "current_dir = os.getcwd()\n",
    "# Get the parent directory (one level above the current working directory)\n",
    "parent_dir = os.path.dirname(current_dir)\n",
    "# Construct the path to the .env file in the parent directory\n",
    "dotenv_path = os.path.join(parent_dir, \".env\")\n",
    "# Load environment variables from the .env file\n",
    "_ = load_dotenv(dotenv_path)\n",
    "\n",
    "OPENAI_API_KEY = os.environ.get(\"OPENAI_API_KEY\")\n"
   ]
  },
  {
   "cell_type": "code",
   "execution_count": null,
   "metadata": {},
   "outputs": [],
   "source": [
    "# load document\n",
    "from langchain.document_loaders.csv_loader import CSVLoader\n",
    "\n",
    "loader = CSVLoader(file_path=\"../documents/events.csv\")\n",
    "data = loader.load()\n",
    "len(data)\n",
    "\n"
   ]
  },
  {
   "cell_type": "code",
   "execution_count": null,
   "metadata": {},
   "outputs": [],
   "source": [
    "# split documents (not needed for single csv file as it is already split into lines)\n",
    "# from langchain.text_splitter import RecursiveCharacterTextSplitter\n",
    "\n",
    "# text_splitter = RecursiveCharacterTextSplitter(\n",
    "# # Chunk size is new linewith separator set\n",
    "#     # chunk_size =\n",
    "#     chunk_overlap  = 2,\n",
    "#     separators=\"\\n\"\n",
    "# )\n",
    "# docs = text_splitter.split_documents(data)\n",
    "# print(len(data))\n",
    "# print(len(docs))\n"
   ]
  },
  {
   "cell_type": "code",
   "execution_count": null,
   "metadata": {},
   "outputs": [],
   "source": [
    "# embedding\n",
    "import os\n",
    "from dotenv import load_dotenv\n",
    "\n",
    "current_dir = os.getcwd()\n",
    "parent_dir = os.path.dirname(current_dir)\n",
    "dotenv_path = os.path.join(parent_dir, \".env\")\n",
    "_ = load_dotenv(dotenv_path)\n",
    "\n",
    "OPENAI_API_KEY = os.environ.get(\"OPENAI_API_KEY\")\n",
    "\n",
    "from langchain.embeddings.openai import OpenAIEmbeddings\n",
    "embeddings = OpenAIEmbeddings(openai_api_key=OPENAI_API_KEY)"
   ]
  },
  {
   "cell_type": "code",
   "execution_count": null,
   "metadata": {},
   "outputs": [],
   "source": [
    "\n",
    "# vector store\n",
    "from langchain.vectorstores import FAISS\n",
    "\n",
    "output_directory = \"../documents/faiss_db\"\n",
    "!rm -rf ./documents/faiss_db  # remove old database files if any\n",
    "\n",
    "vectordb = FAISS.from_documents(\n",
    "data,\n",
    "embeddings,\n",
    ")\n",
    "\n",
    "# save vector store\n",
    "vectordb.save_local(output_directory)\n"
   ]
  },
  {
   "cell_type": "code",
   "execution_count": 59,
   "metadata": {},
   "outputs": [],
   "source": [
    "# load vector store\n",
    "events_db = FAISS.load_local(output_directory, embeddings)"
   ]
  },
  {
   "cell_type": "code",
   "execution_count": null,
   "metadata": {},
   "outputs": [],
   "source": [
    "# similarity search\n",
    "query = \"What photography events are happening in August?\"\n",
    "docs = events_db.similarity_search(query, k=5)\n",
    "print(len(docs))\n",
    "for doc in docs:\n",
    "    print(doc.page_content[:50])"
   ]
  },
  {
   "cell_type": "code",
   "execution_count": null,
   "metadata": {},
   "outputs": [],
   "source": [
    "# maximal marginal relevance search - to achieve both relevance (semantic similarity) and diversity to the query\n",
    "docs = events_db.max_marginal_relevance_search(query, k=5, fetch_k=20)\n",
    "for doc in docs:\n",
    "    print(doc.page_content[:50])\n"
   ]
  },
  {
   "cell_type": "code",
   "execution_count": null,
   "metadata": {},
   "outputs": [],
   "source": [
    "# vector store-backed retriever\n",
    "retriever = events_db.as_retriever(search_type=\"mmr\", search_kwargs={\"k\": 5})\n",
    "docs = retriever.get_relevant_documents(\"What photography events are happening in August?\")\n",
    "\n",
    "for doc in docs:\n",
    "    print(doc.page_content[:50])"
   ]
  },
  {
   "cell_type": "code",
   "execution_count": 64,
   "metadata": {},
   "outputs": [
    {
     "data": {
      "text/plain": [
       "\"There are several photography exhibitions happening in August in London, United Kingdom. Here are some of them:\\n\\n1. Title: Gallery Summer Show\\n   Date: 07 Jul 2023 – 12 Aug 2023\\n   Venue: Frith Street Gallery, Golden Square\\n   Description: Frith Street Gallery presents Portrait, an exhibition of works by gallery artists considering the contemporary portrait through a range of perspectives and mediums.\\n\\n2. Title: Paul McCartney. Photographs\\n   Date: 28 Jun 2023 – 01 Oct 2023\\n   Venue: National Portrait Gallery\\n   Description: An unprecedented exhibition, revealing extraordinary photographs taken by Paul McCartney. This show focuses on portraits captured by McCartney, using his own camera, between December 1963 and February 1964.\\n\\n3. Title: Evelyn Hofer\\n   Date: 23 Jun 2023 – 24 Sep 2023\\n   Venue: The Photographers' Gallery\\n   Description: The first UK solo exhibition of German-American photographer Evelyn Hofer.\\n\\n4. Title: Beyond Brutal!\\n   Date: 19 Jul 2023 – 23 Aug 2023\\n   Venue: Brouhaha\\n   Description: A collection of technicolour prints themed on Architecture and Americana.\\n\\n5. Title: Think Of Those Flowers You Plant\\n   Date: 05 Jul 2023 – 12 Aug 2023\\n   Venue: Niru Ratnam\\n   Description: No description available.\\n\\nPlease note that the availability and details of these exhibitions may change, so it's advisable to check the provided links for the most up-to-date information.\""
      ]
     },
     "execution_count": 64,
     "metadata": {},
     "output_type": "execute_result"
    }
   ],
   "source": [
    "# RetrievalQA - question answering\n",
    "from langchain.chat_models import ChatOpenAI\n",
    "from langchain.chains import RetrievalQA\n",
    "\n",
    "llm = ChatOpenAI(model_name=\"gpt-3.5-turbo\", temperature=0.5)\n",
    "retriever = events_db.as_retriever(search_type=\"mmr\", search_kwargs={\"k\": 5})\n",
    "# docs = retriever.get_relevant_documents(\"What photography exhibitions are happening in August?\")\n",
    "\n",
    "qa_chain = RetrievalQA.from_chain_type(\n",
    "    llm,\n",
    "    retriever=retriever\n",
    ")\n",
    "\n",
    "result = qa_chain({\"query\": \"What photography exhibitions are happening in August?\"})\n",
    "result[\"result\"]\n",
    "\n"
   ]
  }
 ],
 "metadata": {
  "kernelspec": {
   "display_name": "Python 3",
   "language": "python",
   "name": "python3"
  },
  "language_info": {
   "codemirror_mode": {
    "name": "ipython",
    "version": 3
   },
   "file_extension": ".py",
   "mimetype": "text/x-python",
   "name": "python",
   "nbconvert_exporter": "python",
   "pygments_lexer": "ipython3",
   "version": "3.11.0"
  },
  "orig_nbformat": 4
 },
 "nbformat": 4,
 "nbformat_minor": 2
}
