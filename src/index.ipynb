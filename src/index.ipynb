{
 "cells": [
  {
   "cell_type": "code",
   "execution_count": null,
   "metadata": {},
   "outputs": [],
   "source": [
    "import os\n",
    "from dotenv import load_dotenv\n",
    "\n",
    "# Get the current working directory\n",
    "current_dir = os.getcwd()\n",
    "# Get the parent directory (one level above the current working directory)\n",
    "parent_dir = os.path.dirname(current_dir)\n",
    "# Construct the path to the .env file in the parent directory\n",
    "dotenv_path = os.path.join(parent_dir, \".env\")\n",
    "# Load environment variables from the .env file\n",
    "_ = load_dotenv(dotenv_path)\n",
    "\n",
    "OPENAI_API_KEY = os.environ.get(\"OPENAI_API_KEY\")\n"
   ]
  },
  {
   "cell_type": "code",
   "execution_count": null,
   "metadata": {},
   "outputs": [],
   "source": [
    "# load document\n",
    "from langchain.document_loaders.csv_loader import CSVLoader\n",
    "\n",
    "loader = CSVLoader(file_path=\"../documents/events.csv\")\n",
    "data = loader.load()\n",
    "len(data)\n",
    "\n"
   ]
  },
  {
   "cell_type": "code",
   "execution_count": null,
   "metadata": {},
   "outputs": [],
   "source": [
    "# split documents (not needed for single csv file as it is already split into lines)\n",
    "# from langchain.text_splitter import RecursiveCharacterTextSplitter\n",
    "\n",
    "# text_splitter = RecursiveCharacterTextSplitter(\n",
    "# # Chunk size is new linewith separator set\n",
    "#     # chunk_size =\n",
    "#     chunk_overlap  = 2,\n",
    "#     separators=\"\\n\"\n",
    "# )\n",
    "# docs = text_splitter.split_documents(data)\n",
    "# print(len(data))\n",
    "# print(len(docs))\n"
   ]
  },
  {
   "cell_type": "code",
   "execution_count": null,
   "metadata": {},
   "outputs": [],
   "source": [
    "# embedding\n",
    "import os\n",
    "import sys\n",
    "import openai\n",
    "from dotenv import load_dotenv\n",
    "\n",
    "# Get the current working directory\n",
    "current_dir = os.getcwd()\n",
    "# Get the parent directory (one level above the current working directory)\n",
    "parent_dir = os.path.dirname(current_dir)\n",
    "# Construct the path to the .env file in the parent directory\n",
    "dotenv_path = os.path.join(parent_dir, \".env\")\n",
    "# Load environment variables from the .env file\n",
    "_ = load_dotenv(dotenv_path)\n",
    "\n",
    "OPENAI_API_KEY = os.environ.get(\"OPENAI_API_KEY\")\n",
    "\n",
    "from langchain.embeddings.openai import OpenAIEmbeddings\n",
    "embedding = OpenAIEmbeddings(openai_api_key=OPENAI_API_KEY)\n",
    "\n",
    "sentence1 = \"I like purple\"\n",
    "sentence2 = \"I like pink\"\n",
    "sentence3 = \"That's the sky\"\n",
    "\n",
    "embedding1 = embedding.embed_query(sentence1)\n",
    "# # embedding2 = embedding.embed_query(sentence2)\n",
    "# # embedding3 = embedding.embed_query(sentence3)\n",
    "\n",
    "# print(embedding1)\n",
    "\n",
    "# # import numpy as np\n",
    "# # np.dot(embedding1, embedding2)\n"
   ]
  },
  {
   "cell_type": "code",
   "execution_count": null,
   "metadata": {},
   "outputs": [],
   "source": [
    "# vector stores\n"
   ]
  }
 ],
 "metadata": {
  "kernelspec": {
   "display_name": "Python 3",
   "language": "python",
   "name": "python3"
  },
  "language_info": {
   "codemirror_mode": {
    "name": "ipython",
    "version": 3
   },
   "file_extension": ".py",
   "mimetype": "text/x-python",
   "name": "python",
   "nbconvert_exporter": "python",
   "pygments_lexer": "ipython3",
   "version": "3.11.0"
  },
  "orig_nbformat": 4
 },
 "nbformat": 4,
 "nbformat_minor": 2
}
